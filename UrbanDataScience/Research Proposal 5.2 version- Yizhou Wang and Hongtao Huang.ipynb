{
 "cells": [
  {
   "cell_type": "markdown",
   "id": "6105d857",
   "metadata": {},
   "source": [
    "# Spatial Analysis of Demographic, Housing Prices and Public Transportation Accessibility in Chicago\n"
   ]
  },
  {
   "cell_type": "markdown",
   "id": "75ecf37b",
   "metadata": {},
   "source": [
    "### Yizhou Wang & Hongtao Huang\n",
    "#### Master of Regional Planning 25’"
   ]
  },
  {
   "cell_type": "markdown",
   "id": "076ccab9",
   "metadata": {},
   "source": [
    "## 1 Introduction"
   ]
  },
  {
   "cell_type": "markdown",
   "id": "64e7e4f1",
   "metadata": {},
   "source": [
    "Finding an affordable home with easy access to public transportation is a challenge in many cities. Therefore, the relationship between housing prices and public transportation accessibility has become a topic of significant interest, particularly in densely populated urban areas. This research aims to investigate the correlation between median housing values and the availability of public transit routes and stops in Chicago, during the year 2021 and 2023. By examining this relationship, the study seeks to provide valuable insights into the complex interplay between transportation infrastructure, housing affordability, and urban development in a densely populated urban area with intense commute in the Chicago metropolitan area. The findings of this research could inform policymakers, urban planners, and stakeholders in their efforts to promote sustainable and equitable urban growth while ensuring accessibility to essential services."
   ]
  },
  {
   "cell_type": "markdown",
   "id": "c2b662ff",
   "metadata": {},
   "source": [
    "## 2 Problem Statement"
   ]
  },
  {
   "cell_type": "markdown",
   "id": "f8c0f404",
   "metadata": {},
   "source": [
    "This research question addresses the gap in knowledge regarding how public transit accessibility and ridership variations within Chicago, influence housing prices, and also the demographic and economic properties. Existing research often focuses on broader metropolitan areas or the gentrification effects of new transit lines, however, a more detailed effect of how transit stations influencing housing price in commuter towns are rare. This study will analyze data from 2021, 2023 to determine if housing prices correlate with proximity to different public transportation options (subway stations, bus stops); ridership of the stations nearby, and some demographic and economic indexes across Chicago's diverse communities. Moreover, it is also examining the difference of ridership of Covid and Post-Covid era.\n",
    "\n",
    "It is hypothesize that in Chicago, house prices are positively correlated by the density of the spatial distribution of public transportation, while at the same time, house prices determine to some extent the housing vacancy in the region as well as the population race, age, nationality and per capita median income."
   ]
  },
  {
   "cell_type": "markdown",
   "id": "7e9036e0",
   "metadata": {},
   "source": [
    "## 3 Literature Review"
   ]
  },
  {
   "cell_type": "markdown",
   "id": "b2b855ce",
   "metadata": {},
   "source": [
    "## 3.1 Housing Prices and Public Transportation\n",
    "Recent research has highlighted the intricate relationship between housing prices and public transportation accessibility. Studies by Hess and Almeida (2007) and Lee and Smart (2020) have demonstrated that residential property values tend to increase as the distance to public transit stations decreases, reflecting the importance of transportation convenience for urban residents. Palma (2019) stated that:\n",
    "\n",
    "\"10 minutes less travel time to work imply a 2.8% increase in \n",
    "housing price. The price is very sensitive to socio-economic \n",
    "structure of the commune: a 10% increase in the proportion of one member households causes a 50% increase of the price.\"\n",
    "\n",
    "However, this positive correlation has also raised concerns about potential negative impacts, such as the displacement of low-income residents due to rising housing costs. Lee and Smart's (2020) findings suggest that areas with high transportation convenience, particularly those with direct access to major employment centers like New York City, may experience significant increases in poverty rates and the migration of low-income groups to these densely populated areas.\n",
    "\n",
    "However, there are contraditory finding from the research of Brueckner and Rosenthal (2009). They indicates that communities with concentrated public transportation are more likely to have higher populations of low-income families, as public transit offers a more affordable alternative to car ownership. Conversely, Giulano (2005) found that wealthier residents tend to avoid areas with predominantly bus-based transit systems due to longer travel times.\n",
    "\n",
    "## 3.2 Public Transportation in Chicago \n",
    "Chicago Department of Transportation The Chicago Department of Transportation is a major participant in the Regional Transportation Authority (RTA). The Regional Transportation Authority oversees the operations of the Chicago Transit Authority (CTA), the Metra rail system, and the Pace bus system. Crum (2020) believes that the establishment of new CTA stations will cause the value of surrounding houses to increase, which promotes gentrification.\n",
    "\n",
    "Moreover, previous studies has examined Chicago and its surrounding areas, provides a valuable research context for exploring this topic. As a densely populated region with a well-established public transportation network and diverse commuter communities, it offers an opportunity to examine the interplay between housing prices, transit accessibility, and socioeconomic factors. \n",
    "\n",
    "Some of the major cities have substantially greater percentages of workers reliant on transportation than the national average (5.0%), such as Chicago (28.3%) (U.S. Census Bureau, 2018). With a significant portion of Chicago residents relying on public transportation, the area serves as an ideal case study for understanding the complex dynamics between transportation development, housing affordability, and sustainable urban growth.\n",
    "\n",
    "\n",
    "\n",
    "## 3.2.1 The demographic of Public Transportation in Chicago \n",
    "Chicago also has expreienced significant gentrification in its poor neighbourhoods, with both the housing affordability and transit affordability potentially declined for the minority residents who tends to be low-income (Liu et al., 2021). According to a survey by Regional Transportation Authority (2021), the majority of current users believe transportation is safe and are either vital workers or minorities. Here are some figures from the survey. It could be informed that each the users of the different transportation mean, CTA, Metra and Pace has slightly different pattern of household income and racial demographics.\n",
    "\n",
    "\n",
    "![](1.png)\n",
    "Income by Service Board and Rider Type\n",
    "\n",
    "\n",
    "![](4.png)\n",
    "Industry Group by Service Board and Rider Type\n",
    "\n",
    "\n",
    "![](2.png)\n",
    "Race/Ethnicity by Rider Type for CTA\n",
    "\n",
    "\n",
    "![](3.png)\n",
    "Race/Ethnicity by Rider Type for Pace\n",
    "\n",
    "\n",
    "\n",
    "## 3.2.2 Influence of Covid to the Public Transit in Chicago\n",
    "According to TransitCenter(2021), during the early stages of the pandemic, there was a sharp decline in ridership as lockdowns were implemented and many people avoided public spaces to reduce the risk of transmission. This decline forced transit agencies to reduce services due to decreased demand and financial strain from lost fare revenue. In some areas, service cuts have made it difficult for essential workers—who are disproportionately people of color—to commute, as they are more likely to rely on public transport. In 2021, 10% of Black workers, 5% of Latinx workers, and 5% of Asian workers in the Chicago Metropolitan Statistical Area (compared to 4% of White workers) rode buses to work. Since the COVID-19 pandemic began, people of color are more likely than white people to continue commuting to and from get off work. In 2021, 18% of Black workers, 11% of Latinx workers, 30% of Asian workers and 25% of white workers living in the Chicago area worked remotely.\n",
    "\n",
    "\n",
    "Therefore, Sukaryavichute and Prytherch (2018) argues that transportation systems are a critical component in achieving economic and social well-being, especially in the context of social justice. Fair transportation discussions should include reflection and improvement on policies to ensure equitable access to transportation services for all, especially disadvantaged groups. This involves critical analysis of existing inequalities and ensuring that transport systems are designed to meet the needs of all, especially those with lower incomes who rely on public transport. In Chicago, studying the connection between housing affordability and public transportation is particularly important because it can reveal and address social inequalities in urban planning. By understanding the interaction between the two, we can more effectively promote equitable urban development strategies, improve the quality of life of low-income residents, and promote the balanced development of society as a whole."
   ]
  },
  {
   "cell_type": "markdown",
   "id": "971845bf",
   "metadata": {},
   "source": [
    "## 4 Methodology plan"
   ]
  },
  {
   "cell_type": "markdown",
   "id": "2af11a22",
   "metadata": {},
   "source": [
    "### 4.1 Data: \n",
    "#### 4.1.1\tDemographic and Economic data in Block Group: Census API\n",
    "\n",
    "**Housing Data:**\n",
    "1. `B25077_001E`: Median value (dollars) of owner-occupied housing units.\n",
    "2. `B25085_001E`: Price asked for vacant-for-sale-only and sold, not occupied housing units.\n",
    "3. `B25001_001E`: Total housing units.\n",
    "4. `B25002_003E`: Vacant housing units.\n",
    "5. `B25003_002E`: Owner-occupied housing units.\n",
    "6. `B25003_003E`: Renter-occupied housing units.\n",
    "\n",
    "**Demographic Data:**\n",
    "1. `B06011_001E`: Median income in the past 12 months (in 2019 inflation-adjusted dollars) by place of birth in the United States.\n",
    "2. `B05007_001E`: Foreign-born population.\n",
    "3. `B02001_001E`: Total population by race\n",
    "3. `B02001_002E`: Total white population by race\n",
    "\n",
    "\n",
    "#### 4.1.2\tPublic Transportation data: National Transit Map data\n",
    "Stops: https://geodata.bts.gov/datasets/usdot::national-transit-map-stops/about\n",
    "\n",
    "Routes: https://geodata.bts.gov/datasets/80086198b67c456194b064ba21b82326_0/explore?location=35.033551%2C67.136784%2C3.62 \n",
    "\n"
   ]
  },
  {
   "cell_type": "markdown",
   "id": "cc829073",
   "metadata": {},
   "source": [
    "### 4.2 Analysis methods:\n",
    "\n",
    "The unit of analysis is the 866 census tracts within the county. The accessibility to public transport is indicated by the density of public transportation stops.\n",
    "\n",
    "**1.\tGlobal Moran’s I**\n",
    "\n",
    "By using this method, we can verify whether house prices are positively correlated with the (1) density of public transportation stops and (2)ridership of each stops of different transportation methods by choropleths. It also examine the spatial relationship between housing prices and demographics within the census tract (e.g., areas with higher housing prices have a lower percentage of racial minorities).\n",
    "\n",
    "**2.\tLocal Indicators of Spatial Association (Local Moran’s I)**\n",
    "\n",
    "By using this method, we can view the spatial correlation of two factors visualized directly on the map. If the map shows a predominance of cold and hot spots, then the positive correlation of the two factors can be verified.By mapping these clusters, the study aims to visually represent areas where the relationship between transportation accessibility and housing prices is most pronounced. This will allow for a more nuanced understanding of how this relationship varies across different parts of Chicago.\n",
    "\n",
    "**3.\tSpatial Regression Analysis**\n",
    "\n",
    "SLX, spatial lag model, spatial error models, maybe other models may be applied to figure out what indicators are related to house prices. For this topic, it is possible to explore the relationship between housing prices and public transportation stops, the percentage of non-whites, the unemployment rate, the median per capita income, the rate of higher education, and the percentage of immigrants and build a best-fit regression model around housing prices. This analysis will help identify the most significant predictors of housing prices in Hudson County and understand the impact of public transportation accessibility on these prices, controlling for other factors.\n"
   ]
  },
  {
   "cell_type": "markdown",
   "id": "5a423d72",
   "metadata": {},
   "source": [
    "## Reference\n",
    "1.\tHess, D. B., & Almeida, T. M. (2007). Impact of proximity to light rail rapid transit on station-area property values in Buffalo, New York. Urban Studies, 44(5-6), 1041-1068.\n",
    "\n",
    "2.\tLee, S., & Smart, M. (2020). Public Transportation Accessibility, Proximity to New York City, and Residential Property Values in New Jersey. Hatfield Graduate Journal of Public Affairs, 4(1), 6.\n",
    "\n",
    "3.\tBrueckner, J. K., & Rosenthal, S. S. (2009). Gentrification and neighborhood housing cycles: will America's future downtowns be rich?. The Review of Economics and Statistics, 91(4), 725-743.\n",
    "\n",
    "4.\tGiuliano, G. (2005). Low income, public transit, and mobility. Transportation Research Record, 1927(1), 63-70.\n",
    "\n",
    "5.\tPamidimukkala, R. (2016). Impact of Rapid Transit on the Residential Market in Hudson County, New Jersey.\n"
   ]
  },
  {
   "cell_type": "code",
   "execution_count": null,
   "id": "4d833efa",
   "metadata": {},
   "outputs": [],
   "source": []
  }
 ],
 "metadata": {
  "kernelspec": {
   "display_name": "Python 3",
   "language": "python",
   "name": "python3"
  },
  "language_info": {
   "codemirror_mode": {
    "name": "ipython",
    "version": 3
   },
   "file_extension": ".py",
   "mimetype": "text/x-python",
   "name": "python",
   "nbconvert_exporter": "python",
   "pygments_lexer": "ipython3",
   "version": "3.9.11"
  }
 },
 "nbformat": 4,
 "nbformat_minor": 5
}
