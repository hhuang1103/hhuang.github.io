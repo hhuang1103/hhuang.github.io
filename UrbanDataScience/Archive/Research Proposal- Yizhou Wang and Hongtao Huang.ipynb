{
 "cells": [
  {
   "cell_type": "markdown",
   "id": "6105d857",
   "metadata": {},
   "source": [
    "# Spatial Analysis of Demographic, Housing Prices and Public Transportation Accessibility in Hudson County, New Jersey \n"
   ]
  },
  {
   "cell_type": "markdown",
   "id": "75ecf37b",
   "metadata": {},
   "source": [
    "### Yizhou Wang & Hongtao Huang\n",
    "#### Master of Regional Planning 25’"
   ]
  },
  {
   "cell_type": "markdown",
   "id": "076ccab9",
   "metadata": {},
   "source": [
    "## 1 Introduction"
   ]
  },
  {
   "cell_type": "markdown",
   "id": "64e7e4f1",
   "metadata": {},
   "source": [
    "Finding an affordable home with easy access to public transportation is a challenge in many cities. Therefore, the relationship between housing prices and public transportation accessibility has become a topic of significant interest, particularly in densely populated urban areas. This research aims to investigate the correlation between median housing values and the availability of public transit routes and stops in Hudson County, New Jersey, during the year 2021. By examining this relationship, the study seeks to provide valuable insights into the complex interplay between transportation infrastructure, housing affordability, and urban development in a densely populated urban area with intense commute in the New York metropolitan area. The findings of this research could inform policymakers, urban planners, and stakeholders in their efforts to promote sustainable and equitable urban growth while ensuring accessibility to essential services."
   ]
  },
  {
   "cell_type": "markdown",
   "id": "c2b662ff",
   "metadata": {},
   "source": [
    "## 2 Problem Statement"
   ]
  },
  {
   "cell_type": "markdown",
   "id": "f8c0f404",
   "metadata": {},
   "source": [
    "This research question addresses the gap in knowledge regarding how public transit accessibility variations within a single county, Hudson County, New Jersey, influence housing prices, and also the demographic and economic properties. Existing research often focuses on broader metropolitan areas or the gentrification effects of new transit lines, however, a more detailed effect of how transit stations influencing housing price in commuter towns are rare. This study will analyze data from 2021 to determine if housing prices correlate with proximity to different public transportation options (subway stations, bus stops) and some demographic and economic indexes across Hudson County's diverse communities. \n",
    "\n",
    "It is hypothesize that in Hudson County, New Jersey, house prices are positively correlated by the density of the spatial distribution of public transportation, while at the same time, house prices determine to some extent the housing vacancy in the region as well as the population race, age, nationality and per capita median income."
   ]
  },
  {
   "cell_type": "markdown",
   "id": "7e9036e0",
   "metadata": {},
   "source": [
    "## 3 Literature Review"
   ]
  },
  {
   "cell_type": "markdown",
   "id": "b2b855ce",
   "metadata": {},
   "source": [
    "Recent research has highlighted the intricate relationship between housing prices and public transportation accessibility. Studies by Hess and Almeida (2007) and Lee and Smart (2020) have demonstrated that residential property values tend to increase as the distance to public transit stations decreases, reflecting the importance of transportation convenience for urban residents.\n",
    "\n",
    "However, this positive correlation has also raised concerns about potential negative impacts, such as the displacement of low-income residents due to rising housing costs. Lee and Smart's (2020) findings suggest that areas with high transportation convenience, particularly those with direct access to major employment centers like New York City, may experience significant increases in poverty rates and the migration of low-income groups to these densely populated areas.\n",
    "\n",
    "However, there are contraditory finding from the research of Brueckner and Rosenthal (2009). They indicates that communities with concentrated public transportation are more likely to have higher populations of low-income families, as public transit offers a more affordable alternative to car ownership. Conversely, Giulano (2005) found that wealthier residents tend to avoid areas with predominantly bus-based transit systems due to longer travel times.\n",
    "\n",
    "Moreover, previous studies has examined that the New York metropolitan area, including Hudson County, provides a valuable research context for exploring this topic. As a densely populated region with a well-established public transportation network and diverse commuter communities, it offers an opportunity to examine the interplay between housing prices, transit accessibility, and socioeconomic factors. Pamidimukkala (2016), have specifically focused on Hudson County, highlighting its strategic location near Manhattan and its rapidly growing population, partly attributed to efficient public transit and favorable tax incentives compared to New York City. With a significant portion of Jersey City residents relying on public transportation, the area serves as an ideal case study for understanding the complex dynamics between transportation development, housing affordability, and sustainable urban growth.\n"
   ]
  },
  {
   "cell_type": "markdown",
   "id": "971845bf",
   "metadata": {},
   "source": [
    "## 4 Methodology plan"
   ]
  },
  {
   "cell_type": "markdown",
   "id": "2af11a22",
   "metadata": {},
   "source": [
    "### 4.1 Data: \n",
    "#### 4.1.1\tDemographic and Economic data in Block Group: Census API\n",
    "\n",
    "**Housing Data:**\n",
    "1. `B25077_001E`: Median value (dollars) of owner-occupied housing units.\n",
    "2. `B25085_001E`: Price asked for vacant-for-sale-only and sold, not occupied housing units.\n",
    "3. `B25001_001E`: Total housing units.\n",
    "4. `B25002_003E`: Vacant housing units.\n",
    "5. `B25003_002E`: Owner-occupied housing units.\n",
    "6. `B25003_003E`: Renter-occupied housing units.\n",
    "\n",
    "**Demographic Data:**\n",
    "1. `B06011_001E`: Median income in the past 12 months (in 2019 inflation-adjusted dollars) by place of birth in the United States.\n",
    "2. `B05007_001E`: Foreign-born population.\n",
    "3. `B02001_001E`: Total population by race\n",
    "3. `B02001_002E`: Total white population by race\n",
    "\n",
    "\n",
    "#### 4.1.2\tPublic Transportation data: National Transit Map data\n",
    "Stops: https://geodata.bts.gov/datasets/usdot::national-transit-map-stops/about\n",
    "\n",
    "Routes: https://geodata.bts.gov/datasets/80086198b67c456194b064ba21b82326_0/explore?location=35.033551%2C67.136784%2C3.62 \n",
    "\n"
   ]
  },
  {
   "cell_type": "markdown",
   "id": "cc829073",
   "metadata": {},
   "source": [
    "### 4.2 Analysis methods:\n",
    "\n",
    "The unit of analysis is the 183 census tracts within the county. The accessibility to public transport is indicated by the density of public transportation stops.\n",
    "\n",
    "**1.\tGlobal Moran’s I**\n",
    "\n",
    "By using this method, we can verify whether house prices are positively correlated with the density of public transportation stops by choropleths. It also examine the spatial relationship between housing prices and demographics within the census tract (e.g., areas with higher housing prices have a lower percentage of racial minorities).\n",
    "\n",
    "**2.\tLocal Indicators of Spatial Association (Local Moran’s I)**\n",
    "\n",
    "By using this method, we can view the spatial correlation of two factors visualized directly on the map. If the map shows a predominance of cold and hot spots, then the positive correlation of the two factors can be verified.By mapping these clusters, the study aims to visually represent areas where the relationship between transportation accessibility and housing prices is most pronounced. This will allow for a more nuanced understanding of how this relationship varies across different parts of Hudson County.\n",
    "\n",
    "**3.\tSpatial Regression Analysis**\n",
    "\n",
    "SLX, spatial lag model, spatial error models, maybe other models may be applied to figure out what indicators are related to house prices. For this topic, it is possible to explore the relationship between housing prices and public transportation stops, the percentage of non-whites, the unemployment rate, the median per capita income, the rate of higher education, and the percentage of immigrants and build a best-fit regression model around housing prices. This analysis will help identify the most significant predictors of housing prices in Hudson County and understand the impact of public transportation accessibility on these prices, controlling for other factors.\n"
   ]
  },
  {
   "cell_type": "markdown",
   "id": "5a423d72",
   "metadata": {},
   "source": [
    "## Reference\n",
    "1.\tHess, D. B., & Almeida, T. M. (2007). Impact of proximity to light rail rapid transit on station-area property values in Buffalo, New York. Urban Studies, 44(5-6), 1041-1068.\n",
    "\n",
    "2.\tLee, S., & Smart, M. (2020). Public Transportation Accessibility, Proximity to New York City, and Residential Property Values in New Jersey. Hatfield Graduate Journal of Public Affairs, 4(1), 6.\n",
    "\n",
    "3.\tBrueckner, J. K., & Rosenthal, S. S. (2009). Gentrification and neighborhood housing cycles: will America's future downtowns be rich?. The Review of Economics and Statistics, 91(4), 725-743.\n",
    "\n",
    "4.\tGiuliano, G. (2005). Low income, public transit, and mobility. Transportation Research Record, 1927(1), 63-70.\n",
    "\n",
    "5.\tPamidimukkala, R. (2016). Impact of Rapid Transit on the Residential Market in Hudson County, New Jersey.\n"
   ]
  },
  {
   "cell_type": "code",
   "execution_count": null,
   "id": "4d833efa",
   "metadata": {},
   "outputs": [],
   "source": []
  }
 ],
 "metadata": {
  "kernelspec": {
   "display_name": "Python 3",
   "language": "python",
   "name": "python3"
  },
  "language_info": {
   "codemirror_mode": {
    "name": "ipython",
    "version": 3
   },
   "file_extension": ".py",
   "mimetype": "text/x-python",
   "name": "python",
   "nbconvert_exporter": "python",
   "pygments_lexer": "ipython3",
   "version": "3.9.11"
  }
 },
 "nbformat": 4,
 "nbformat_minor": 5
}
